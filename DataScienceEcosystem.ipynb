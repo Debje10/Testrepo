{
 "cells": [
  {
   "cell_type": "markdown",
   "id": "c56a7af1-db18-4581-832b-ed23606fc89a",
   "metadata": {},
   "source": [
    "# Data Science Tools and Ecosystem"
   ]
  },
  {
   "cell_type": "markdown",
   "id": "7ac6d7fc-8742-43c1-9cb8-ff3ffc2cd962",
   "metadata": {},
   "source": [
    "In this notebook, Data Science Tools and Ecosystem are summarized."
   ]
  },
  {
   "cell_type": "markdown",
   "id": "4349cf96-9e79-47c4-b81d-0bb64d29fa50",
   "metadata": {},
   "source": [
    "### Objectives:"
   ]
  },
  {
   "cell_type": "markdown",
   "id": "5c8d8f66-6525-48b6-a81c-b703568f5194",
   "metadata": {},
   "source": [
    "* List popular languages for Data Science\n",
    "* List commonly used libraries\n",
    "* Provide examples of arithmetic expressions in Python"
   ]
  },
  {
   "cell_type": "markdown",
   "id": "c849752e-2677-4603-8429-dc950893ac1e",
   "metadata": {},
   "source": [
    "Some of the popular languages that Data Scientists use are:"
   ]
  },
  {
   "cell_type": "markdown",
   "id": "e0d17e3c-b80d-4fdb-b15d-e1d32e09e0c5",
   "metadata": {},
   "source": [
    "1. SQL\n",
    "2. Python\n",
    "3. R"
   ]
  },
  {
   "cell_type": "markdown",
   "id": "a55fc336-e818-4b9d-9eb0-9bde9575215f",
   "metadata": {},
   "source": [
    "Some of the commonly used libraries used by Data Scientists include:"
   ]
  },
  {
   "cell_type": "markdown",
   "id": "b55cc2ac-9aaf-4632-83b6-1108a3d412e5",
   "metadata": {},
   "source": [
    "1. NumPy\n",
    "2. Pandas\n",
    "3. Plotly"
   ]
  },
  {
   "cell_type": "markdown",
   "id": "67dbfcfd-25b5-46ea-b887-1f841a2963a1",
   "metadata": {},
   "source": [
    "\n",
    "| Data Science Tools | \n",
    "| :-- |\n",
    "| RStudio | \n",
    "| Apache Spark |\n",
    "| Apache Hadoop |"
   ]
  },
  {
   "cell_type": "markdown",
   "id": "c882ebfa-9580-4728-b5d3-846ff7d0eeea",
   "metadata": {},
   "source": [
    "### Below are a few examples of evaluating arithmetic expressions in Python"
   ]
  },
  {
   "cell_type": "markdown",
   "id": "27386489-5618-46a0-8b8a-979ac1b22fa4",
   "metadata": {},
   "source": [
    "This a simple arithmetic expression to mutiply then add integers\n"
   ]
  },
  {
   "cell_type": "code",
   "execution_count": 7,
   "id": "ed2c2578-4f4a-4ba3-82aa-6b703e3db1ab",
   "metadata": {},
   "outputs": [
    {
     "data": {
      "text/plain": [
       "17"
      ]
     },
     "execution_count": 7,
     "metadata": {},
     "output_type": "execute_result"
    }
   ],
   "source": [
    "(3*4)+5"
   ]
  },
  {
   "cell_type": "markdown",
   "id": "7947037e-d2d1-43f1-8158-64dd5365efc5",
   "metadata": {},
   "source": [
    "This will convert 200 minutes to hours by diving by 60"
   ]
  },
  {
   "cell_type": "code",
   "execution_count": 9,
   "id": "eae51215-eb41-4478-a061-a6168a73b2aa",
   "metadata": {},
   "outputs": [
    {
     "data": {
      "text/plain": [
       "3.3333333333333335"
      ]
     },
     "execution_count": 9,
     "metadata": {},
     "output_type": "execute_result"
    }
   ],
   "source": [
    "minutes = 200\n",
    "hours = 60\n",
    "minutes / hours"
   ]
  },
  {
   "cell_type": "markdown",
   "id": "24c35ac7-2cfa-4069-9087-047159a84567",
   "metadata": {},
   "source": [
    "## Author\n",
    "Debby van der Vlist"
   ]
  },
  {
   "cell_type": "code",
   "execution_count": null,
   "id": "c2f840ba-4a08-4881-9233-5afa22e42b34",
   "metadata": {},
   "outputs": [],
   "source": []
  }
 ],
 "metadata": {
  "kernelspec": {
   "display_name": "Python [conda env:base] *",
   "language": "python",
   "name": "conda-base-py"
  },
  "language_info": {
   "codemirror_mode": {
    "name": "ipython",
    "version": 3
   },
   "file_extension": ".py",
   "mimetype": "text/x-python",
   "name": "python",
   "nbconvert_exporter": "python",
   "pygments_lexer": "ipython3",
   "version": "3.12.7"
  }
 },
 "nbformat": 4,
 "nbformat_minor": 5
}
